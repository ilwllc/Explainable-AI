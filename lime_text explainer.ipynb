{
 "cells": [
  {
   "cell_type": "code",
   "execution_count": null,
   "id": "6395e9c5-73cf-4ffb-bbdb-54aa2cceff53",
   "metadata": {},
   "outputs": [],
   "source": [
    "import lime\n",
    "import numpy as np\n",
    "import pandas as pd\n",
    "from __future__ import print_function\n",
    "\n",
    "from lime import lime_text\n",
    "from lime.lime_text import LimeTextExplainer\n",
    "\n",
    "import sklearn\n",
    "import sklearn.ensemble\n",
    "import sklearn.metrics\n",
    "from sklearn.pipeline import make_pipeline\n",
    "from sklearn.datasets import fetch_20newsgroups\n",
    "\n",
    "%matplotlib inline"
   ]
  },
  {
   "cell_type": "markdown",
   "id": "8cd1d03a-d2c2-4e9f-8463-9c889970c1c7",
   "metadata": {},
   "source": [
    "## Fetch training and testing data"
   ]
  },
  {
   "cell_type": "code",
   "execution_count": null,
   "id": "0ba8f102-2397-4a41-9b46-79a1a8968bfb",
   "metadata": {},
   "outputs": [],
   "source": [
    "\n",
    "categories = ['comp.graphics', 'sci.electronics']\n",
    "newsgroups_train = fetch_20newsgroups(subset='train', categories=categories)\n",
    "newsgroups_test = fetch_20newsgroups(subset='test', categories=categories)\n",
    "class_names = ['graphics', 'electronics']"
   ]
  },
  {
   "cell_type": "markdown",
   "id": "81f23748-5ea0-4a07-88a8-ac0f7f84081f",
   "metadata": {},
   "source": [
    "## Build a Vectorizer for the test input"
   ]
  },
  {
   "cell_type": "code",
   "execution_count": null,
   "id": "11119378-8ce1-4e91-b5f6-4cba535474f1",
   "metadata": {},
   "outputs": [],
   "source": [
    "vectorizer = sklearn.feature_extraction.text.TfidfVectorizer(lowercase=False, stop_words='english')\n",
    "train_vectors = vectorizer.fit_transform(newsgroups_train.data)\n",
    "test_vectors = vectorizer.transform(newsgroups_test.data)"
   ]
  },
  {
   "cell_type": "markdown",
   "id": "cce52ebc-45c3-4b43-b3f1-1999f8e5febc",
   "metadata": {},
   "source": [
    "# Create a Classifier model"
   ]
  },
  {
   "cell_type": "code",
   "execution_count": null,
   "id": "be8b35ac-47a7-4dce-8e53-158543c70caf",
   "metadata": {},
   "outputs": [],
   "source": [
    "model = sklearn.ensemble.RandomForestClassifier(n_estimators=500)\n",
    "model.fit(train_vectors, newsgroups_train.target)"
   ]
  },
  {
   "cell_type": "markdown",
   "id": "ef6d9db1-bea5-4c3f-aa96-520a6e5b984b",
   "metadata": {},
   "source": [
    "## Generate predictions for test samples"
   ]
  },
  {
   "cell_type": "code",
   "execution_count": null,
   "id": "0ccbdbb1-1256-49bc-b461-9984f57e0467",
   "metadata": {},
   "outputs": [],
   "source": [
    "pred = model.predict(test_vectors)\n",
    "print(f\"F1 score: {sklearn.metrics.f1_score(newsgroups_test.target, pred, average='binary'):.2f}\")"
   ]
  },
  {
   "cell_type": "markdown",
   "id": "96a68078-2ed5-4483-9ec6-6c69fc84eb5c",
   "metadata": {},
   "source": [
    "## Create a model pipeline and an explainer object"
   ]
  },
  {
   "cell_type": "code",
   "execution_count": null,
   "id": "e4c07511-5c22-4d1f-aa79-73c38d328ebf",
   "metadata": {},
   "outputs": [],
   "source": [
    "model_pipeline = make_pipeline(vectorizer, model)\n",
    "explainer = LimeTextExplainer(class_names=class_names)"
   ]
  },
  {
   "cell_type": "markdown",
   "id": "b7a63879-bf47-4e82-87f9-94f157706a53",
   "metadata": {},
   "source": [
    "## Generate explanation for 1 prediction"
   ]
  },
  {
   "cell_type": "code",
   "execution_count": null,
   "id": "ac3af991-d651-4e80-b6e8-5885596803d7",
   "metadata": {},
   "outputs": [],
   "source": [
    "idx = 270\n",
    "exp = explainer.explain_instance(newsgroups_test.data[idx], model_pipeline.predict_proba, num_features=6)\n",
    "\n",
    "page = exp.as_html()\n",
    "\n",
    "with open('text_explanation.html', 'w', encoding=\"utf-8\") as f:\n",
    "    f.write(page)"
   ]
  }
 ],
 "metadata": {
  "kernelspec": {
   "display_name": "Python 3 (ipykernel)",
   "language": "python",
   "name": "python3"
  },
  "language_info": {
   "codemirror_mode": {
    "name": "ipython",
    "version": 3
   },
   "file_extension": ".py",
   "mimetype": "text/x-python",
   "name": "python",
   "nbconvert_exporter": "python",
   "pygments_lexer": "ipython3",
   "version": "3.10.12"
  }
 },
 "nbformat": 4,
 "nbformat_minor": 5
}
