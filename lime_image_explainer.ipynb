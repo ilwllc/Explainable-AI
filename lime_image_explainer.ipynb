{
 "cells": [
  {
   "cell_type": "code",
   "execution_count": null,
   "id": "7ac6eee7-3c49-435e-959e-6f67cfa72691",
   "metadata": {},
   "outputs": [],
   "source": [
    "import matplotlib.pyplot as plt\n",
    "import numpy as np\n",
    "from sklearn.pipeline import Pipeline\n",
    "from sklearn.ensemble import RandomForestClassifier\n",
    "from sklearn.ensemble import GradientBoostingClassifier\n",
    "from sklearn.preprocessing import Normalizer\n",
    "from sklearn.decomposition import PCA\n",
    "\n",
    "from sklearn.model_selection import train_test_split\n",
    "from sklearn.datasets import fetch_olivetti_faces\n",
    "\n",
    "import lime\n",
    "from lime import lime_image\n",
    "from lime.wrappers.scikit_image import SegmentationAlgorithm\n",
    "\n",
    "from skimage.color import gray2rgb, rgb2gray # since the code wants color images\n",
    "\n"
   ]
  },
  {
   "cell_type": "markdown",
   "id": "d6a0bc10-c419-42eb-8889-454d93005fcc",
   "metadata": {},
   "source": [
    "## Create a simple pipeline to process the image inputs and train a classifier"
   ]
  },
  {
   "cell_type": "code",
   "execution_count": null,
   "id": "23ce7284-70db-491c-a950-9c21bc35ea34",
   "metadata": {},
   "outputs": [],
   "source": [
    "class PipeStep(object):\n",
    "    \"\"\"\n",
    "    Wrapper for turning functions into pipeline transforms (no-fitting)\n",
    "    \"\"\"\n",
    "    def __init__(self, step_func):\n",
    "        self._step_func=step_func\n",
    "    def fit(self,*args):\n",
    "        return self\n",
    "    def transform(self,X):\n",
    "        return self._step_func(X)\n",
    "\n",
    "makegray_step = PipeStep(lambda img_list: [rgb2gray(img) for img in img_list])\n",
    "flatten_step = PipeStep(lambda img_list: [img.ravel() for img in img_list])\n",
    "\n",
    "simple_rf_pipeline = Pipeline([\n",
    "    ('Make Gray', makegray_step),\n",
    "    ('Flatten Image', flatten_step),\n",
    "    ('Normalize', Normalizer()),\n",
    "    ('PCA', PCA(25)),\n",
    "    ('XGBoost', GradientBoostingClassifier())\n",
    "                              ])"
   ]
  },
  {
   "cell_type": "markdown",
   "id": "e2b9cecd-9ab9-48ea-b99a-86513faa15a0",
   "metadata": {},
   "source": [
    "## Get image data"
   ]
  },
  {
   "cell_type": "code",
   "execution_count": null,
   "id": "58821541-03ca-4360-ba5e-85e4bad5f2bc",
   "metadata": {},
   "outputs": [],
   "source": [
    "faces = fetch_olivetti_faces()"
   ]
  },
  {
   "cell_type": "markdown",
   "id": "9eea4b35-a750-423b-844b-dc97b39dc426",
   "metadata": {},
   "source": [
    "## Fit the model via the pipeline object"
   ]
  },
  {
   "cell_type": "code",
   "execution_count": null,
   "id": "aea02b1d-7222-4b89-96a4-bca7dea9936b",
   "metadata": {},
   "outputs": [],
   "source": [
    "# make each image color so lime_image works correctly\n",
    "X_vec = np.stack([gray2rgb(iimg) for iimg in faces.data.reshape((-1, 64, 64))],0)\n",
    "y_vec = faces.target.astype(np.uint8)\n",
    "\n",
    "X_train, X_test, y_train, y_test = train_test_split(X_vec, y_vec,\n",
    "                                                    train_size=0.70)\n",
    "simple_rf_pipeline.fit(X_train, y_train)"
   ]
  },
  {
   "cell_type": "markdown",
   "id": "12c0b84b-44ab-46e8-a1e7-353060df8756",
   "metadata": {},
   "source": [
    "## Create an explainer"
   ]
  },
  {
   "cell_type": "code",
   "execution_count": null,
   "id": "ad96e908-9128-458f-86f6-06e5924ac41d",
   "metadata": {},
   "outputs": [],
   "source": [
    "explainer = lime_image.LimeImageExplainer(verbose = False)\n",
    "segmenter = SegmentationAlgorithm('slic', n_segments=100, compactness=1, sigma=1)"
   ]
  },
  {
   "cell_type": "markdown",
   "id": "799138a5-d3d5-4300-b1e3-7e74e1b1e7fa",
   "metadata": {},
   "source": [
    "## Identify the super-pixels that drove this prediction"
   ]
  },
  {
   "cell_type": "code",
   "execution_count": null,
   "id": "04e222e2-5ce3-440a-8c04-07e3c6d80525",
   "metadata": {},
   "outputs": [],
   "source": [
    "idx = 0\n",
    "num_features = 10\n",
    "\n",
    "explanation = explainer.explain_instance(X_test[idx], \n",
    "                                         classifier_fn = simple_rf_pipeline.predict_proba, \n",
    "                                         top_labels=10, hide_color=0, num_samples=10000, segmentation_fn=segmenter)\n",
    "\n",
    "from skimage.color import label2rgb\n",
    "temp, mask = explanation.get_image_and_mask(y_test[idx], positive_only=True, num_features=num_features, hide_rest=False)\n",
    "fig, (ax1) = plt.subplots(1,1, figsize = (8, 4))\n",
    "ax1.imshow(label2rgb(mask,temp, bg_label = 0), interpolation = 'nearest')\n",
    "ax1.set_title('Positive Regions')\n",
    "temp, mask = explanation.get_image_and_mask(y_test[idx], positive_only=False, num_features=num_features, hide_rest=False)"
   ]
  },
  {
   "cell_type": "code",
   "execution_count": null,
   "id": "6251bd81-7367-446b-9d82-528a6e363db5",
   "metadata": {},
   "outputs": [],
   "source": []
  }
 ],
 "metadata": {
  "kernelspec": {
   "display_name": "Python 3 (ipykernel)",
   "language": "python",
   "name": "python3"
  },
  "language_info": {
   "codemirror_mode": {
    "name": "ipython",
    "version": 3
   },
   "file_extension": ".py",
   "mimetype": "text/x-python",
   "name": "python",
   "nbconvert_exporter": "python",
   "pygments_lexer": "ipython3",
   "version": "3.10.12"
  }
 },
 "nbformat": 4,
 "nbformat_minor": 5
}
