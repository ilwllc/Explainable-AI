{
 "cells": [
  {
   "cell_type": "code",
   "execution_count": null,
   "id": "4d493bca-5e6c-473b-b4b2-a83183c497b6",
   "metadata": {},
   "outputs": [],
   "source": [
    "import numpy as np\n",
    "import os\n",
    "import pandas as pd\n",
    "import matplotlib.pyplot as plt\n",
    "import sklearn.ensemble\n",
    "import sklearn.metrics\n",
    "\n",
    "from sklearn.preprocessing import StandardScaler\n",
    "from sklearn.preprocessing import OrdinalEncoder, OneHotEncoder\n",
    "\n",
    "import lime.lime_tabular"
   ]
  },
  {
   "cell_type": "markdown",
   "id": "3776cfac-6b47-4c94-9c7a-419c964a84a8",
   "metadata": {},
   "source": [
    "## Assemble Training and Test data\n",
    "\n",
    "### 1. Load the data set\n",
    "### 2. Split into train/test datasets"
   ]
  },
  {
   "cell_type": "code",
   "execution_count": null,
   "id": "53ca3c28-d316-4767-898d-8e64f9d275ed",
   "metadata": {},
   "outputs": [],
   "source": [
    "original_data = pd.read_csv(os.path.join('data', 'heart.csv'))\n",
    "data = original_data.copy()"
   ]
  },
  {
   "cell_type": "code",
   "execution_count": null,
   "id": "810e25b4-45b4-4385-b865-5665f9ee339c",
   "metadata": {},
   "outputs": [],
   "source": [
    "target = 'HeartDisease'\n",
    "categorical_features = ['Sex', 'ChestPainType', 'RestingECG', 'FastingBS', 'ExerciseAngina', 'ST_Slope']\n",
    "numerical_features = [i for i in data.columns if i not in categorical_features + [target]]"
   ]
  },
  {
   "cell_type": "code",
   "execution_count": null,
   "id": "69728570-e391-42a9-b792-f85fb0f798b7",
   "metadata": {},
   "outputs": [],
   "source": [
    "data[target] = data[target].replace({0:'N', 1:'Y'})"
   ]
  },
  {
   "cell_type": "code",
   "execution_count": null,
   "id": "1e6439d7-d65a-4f8a-b7b6-b5a5d81067b6",
   "metadata": {},
   "outputs": [],
   "source": [
    "train, test, labels_train, labels_test = sklearn.model_selection.train_test_split(data[numerical_features].values\n",
    "                                                                                  , data[target].values\n",
    "                                                                                  , train_size=0.80)"
   ]
  },
  {
   "cell_type": "markdown",
   "id": "7fb08c25-2d31-4c22-bdd2-c1d664ade4df",
   "metadata": {},
   "source": [
    "## Train Classifier model"
   ]
  },
  {
   "cell_type": "code",
   "execution_count": null,
   "id": "46f787aa-8695-4862-9e46-c286871e5542",
   "metadata": {},
   "outputs": [],
   "source": [
    "model = sklearn.ensemble.RandomForestClassifier(n_estimators=500)\n",
    "model.fit(train, labels_train)"
   ]
  },
  {
   "cell_type": "markdown",
   "id": "72a1b96e-e465-4bf2-bbdf-cc8df1018463",
   "metadata": {},
   "source": [
    "## Lime explainer"
   ]
  },
  {
   "cell_type": "code",
   "execution_count": null,
   "id": "d4fe1c36-de90-4934-a842-77088d86700d",
   "metadata": {},
   "outputs": [],
   "source": [
    "explainer = lime.lime_tabular.LimeTabularExplainer(train, feature_names=numerical_features\n",
    "                                                   ,class_names=['No', 'Yes']\n",
    "                                                   , discretize_continuous=True)"
   ]
  },
  {
   "cell_type": "code",
   "execution_count": null,
   "id": "f5c735a5-d73b-456b-b54d-9d4bbdb6e6ec",
   "metadata": {},
   "outputs": [],
   "source": [
    "def show_explanation(idx, actual):\n",
    "    exp = explainer.explain_instance(test[idx], model.predict_proba\n",
    "                                     , num_features=len(numerical_features)\n",
    "                                     , top_labels=len(numerical_features))\n",
    "\n",
    "    _probs = model.predict_proba(test[idx].reshape(1, -1))\n",
    "    exp.show_in_notebook(show_table=False, show_all=False)\n",
    "\n",
    "    return"
   ]
  },
  {
   "cell_type": "markdown",
   "id": "fea87587-6219-4bae-bb50-778cd1100be4",
   "metadata": {},
   "source": [
    "## Get explanations for predictions"
   ]
  },
  {
   "cell_type": "code",
   "execution_count": null,
   "id": "eebc4c05-530d-4c6a-89d3-c6a9876e6b54",
   "metadata": {},
   "outputs": [],
   "source": [
    "idx = 140\n",
    "show_explanation(idx=idx, actual=labels_test[idx])"
   ]
  },
  {
   "cell_type": "code",
   "execution_count": null,
   "id": "510f9ebd-9f3e-4a39-82fb-755641c71cc7",
   "metadata": {},
   "outputs": [],
   "source": [
    "idx = 26\n",
    "show_explanation(idx=idx, actual=labels_test[idx])"
   ]
  },
  {
   "cell_type": "markdown",
   "id": "bcbd3b35-a4f9-49f2-aeed-a1f49f16a33b",
   "metadata": {},
   "source": [
    "## Retrieve explanations in list format"
   ]
  },
  {
   "cell_type": "code",
   "execution_count": null,
   "id": "d119bd35-5cfd-44d0-a973-2e3174a12ded",
   "metadata": {},
   "outputs": [],
   "source": [
    "exp_list = exp.as_list()"
   ]
  }
 ],
 "metadata": {
  "kernelspec": {
   "display_name": "Python 3 (ipykernel)",
   "language": "python",
   "name": "python3"
  },
  "language_info": {
   "codemirror_mode": {
    "name": "ipython",
    "version": 3
   },
   "file_extension": ".py",
   "mimetype": "text/x-python",
   "name": "python",
   "nbconvert_exporter": "python",
   "pygments_lexer": "ipython3",
   "version": "3.10.12"
  }
 },
 "nbformat": 4,
 "nbformat_minor": 5
}
